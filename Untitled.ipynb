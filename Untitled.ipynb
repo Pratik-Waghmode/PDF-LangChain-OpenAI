{
 "cells": [
  {
   "cell_type": "code",
   "execution_count": 1,
   "id": "7487b200-f14b-4d84-9ff6-0ac6ea094ac4",
   "metadata": {},
   "outputs": [
    {
     "name": "stdout",
     "output_type": "stream",
     "text": [
      "Requirement already satisfied: langchain in c:\\users\\waghm\\anaconda3\\lib\\site-packages (0.2.16)\n",
      "Requirement already satisfied: PyYAML>=5.3 in c:\\users\\waghm\\anaconda3\\lib\\site-packages (from langchain) (6.0.1)\n",
      "Requirement already satisfied: SQLAlchemy<3,>=1.4 in c:\\users\\waghm\\anaconda3\\lib\\site-packages (from langchain) (2.0.30)\n",
      "Requirement already satisfied: aiohttp<4.0.0,>=3.8.3 in c:\\users\\waghm\\anaconda3\\lib\\site-packages (from langchain) (3.9.5)\n",
      "Requirement already satisfied: langchain-core<0.3.0,>=0.2.38 in c:\\users\\waghm\\anaconda3\\lib\\site-packages (from langchain) (0.2.39)\n",
      "Requirement already satisfied: langchain-text-splitters<0.3.0,>=0.2.0 in c:\\users\\waghm\\anaconda3\\lib\\site-packages (from langchain) (0.2.4)\n",
      "Requirement already satisfied: langsmith<0.2.0,>=0.1.17 in c:\\users\\waghm\\anaconda3\\lib\\site-packages (from langchain) (0.1.118)\n",
      "Requirement already satisfied: numpy<2.0.0,>=1.26.0 in c:\\users\\waghm\\anaconda3\\lib\\site-packages (from langchain) (1.26.4)\n",
      "Requirement already satisfied: pydantic<3,>=1 in c:\\users\\waghm\\anaconda3\\lib\\site-packages (from langchain) (2.9.1)\n",
      "Requirement already satisfied: requests<3,>=2 in c:\\users\\waghm\\anaconda3\\lib\\site-packages (from langchain) (2.32.2)\n",
      "Requirement already satisfied: tenacity!=8.4.0,<9.0.0,>=8.1.0 in c:\\users\\waghm\\anaconda3\\lib\\site-packages (from langchain) (8.2.2)\n",
      "Requirement already satisfied: aiosignal>=1.1.2 in c:\\users\\waghm\\anaconda3\\lib\\site-packages (from aiohttp<4.0.0,>=3.8.3->langchain) (1.2.0)\n",
      "Requirement already satisfied: attrs>=17.3.0 in c:\\users\\waghm\\anaconda3\\lib\\site-packages (from aiohttp<4.0.0,>=3.8.3->langchain) (23.1.0)\n",
      "Requirement already satisfied: frozenlist>=1.1.1 in c:\\users\\waghm\\anaconda3\\lib\\site-packages (from aiohttp<4.0.0,>=3.8.3->langchain) (1.4.0)\n",
      "Requirement already satisfied: multidict<7.0,>=4.5 in c:\\users\\waghm\\anaconda3\\lib\\site-packages (from aiohttp<4.0.0,>=3.8.3->langchain) (6.0.4)\n",
      "Requirement already satisfied: yarl<2.0,>=1.0 in c:\\users\\waghm\\anaconda3\\lib\\site-packages (from aiohttp<4.0.0,>=3.8.3->langchain) (1.9.3)\n",
      "Requirement already satisfied: jsonpatch<2.0,>=1.33 in c:\\users\\waghm\\anaconda3\\lib\\site-packages (from langchain-core<0.3.0,>=0.2.38->langchain) (1.33)\n",
      "Requirement already satisfied: packaging<25,>=23.2 in c:\\users\\waghm\\anaconda3\\lib\\site-packages (from langchain-core<0.3.0,>=0.2.38->langchain) (23.2)\n",
      "Requirement already satisfied: typing-extensions>=4.7 in c:\\users\\waghm\\anaconda3\\lib\\site-packages (from langchain-core<0.3.0,>=0.2.38->langchain) (4.11.0)\n",
      "Requirement already satisfied: httpx<1,>=0.23.0 in c:\\users\\waghm\\anaconda3\\lib\\site-packages (from langsmith<0.2.0,>=0.1.17->langchain) (0.27.0)\n",
      "Requirement already satisfied: orjson<4.0.0,>=3.9.14 in c:\\users\\waghm\\anaconda3\\lib\\site-packages (from langsmith<0.2.0,>=0.1.17->langchain) (3.10.7)\n",
      "Requirement already satisfied: annotated-types>=0.6.0 in c:\\users\\waghm\\anaconda3\\lib\\site-packages (from pydantic<3,>=1->langchain) (0.6.0)\n",
      "Requirement already satisfied: pydantic-core==2.23.3 in c:\\users\\waghm\\anaconda3\\lib\\site-packages (from pydantic<3,>=1->langchain) (2.23.3)\n",
      "Requirement already satisfied: charset-normalizer<4,>=2 in c:\\users\\waghm\\anaconda3\\lib\\site-packages (from requests<3,>=2->langchain) (2.0.4)\n",
      "Requirement already satisfied: idna<4,>=2.5 in c:\\users\\waghm\\anaconda3\\lib\\site-packages (from requests<3,>=2->langchain) (3.7)\n",
      "Requirement already satisfied: urllib3<3,>=1.21.1 in c:\\users\\waghm\\anaconda3\\lib\\site-packages (from requests<3,>=2->langchain) (2.2.2)\n",
      "Requirement already satisfied: certifi>=2017.4.17 in c:\\users\\waghm\\anaconda3\\lib\\site-packages (from requests<3,>=2->langchain) (2024.8.30)\n",
      "Requirement already satisfied: greenlet!=0.4.17 in c:\\users\\waghm\\anaconda3\\lib\\site-packages (from SQLAlchemy<3,>=1.4->langchain) (3.0.1)\n",
      "Requirement already satisfied: anyio in c:\\users\\waghm\\anaconda3\\lib\\site-packages (from httpx<1,>=0.23.0->langsmith<0.2.0,>=0.1.17->langchain) (4.2.0)\n",
      "Requirement already satisfied: httpcore==1.* in c:\\users\\waghm\\anaconda3\\lib\\site-packages (from httpx<1,>=0.23.0->langsmith<0.2.0,>=0.1.17->langchain) (1.0.2)\n",
      "Requirement already satisfied: sniffio in c:\\users\\waghm\\anaconda3\\lib\\site-packages (from httpx<1,>=0.23.0->langsmith<0.2.0,>=0.1.17->langchain) (1.3.0)\n",
      "Requirement already satisfied: h11<0.15,>=0.13 in c:\\users\\waghm\\anaconda3\\lib\\site-packages (from httpcore==1.*->httpx<1,>=0.23.0->langsmith<0.2.0,>=0.1.17->langchain) (0.14.0)\n",
      "Requirement already satisfied: jsonpointer>=1.9 in c:\\users\\waghm\\anaconda3\\lib\\site-packages (from jsonpatch<2.0,>=1.33->langchain-core<0.3.0,>=0.2.38->langchain) (2.1)\n",
      "Requirement already satisfied: openai in c:\\users\\waghm\\anaconda3\\lib\\site-packages (1.44.1)\n",
      "Requirement already satisfied: anyio<5,>=3.5.0 in c:\\users\\waghm\\anaconda3\\lib\\site-packages (from openai) (4.2.0)\n",
      "Requirement already satisfied: distro<2,>=1.7.0 in c:\\users\\waghm\\anaconda3\\lib\\site-packages (from openai) (1.9.0)\n",
      "Requirement already satisfied: httpx<1,>=0.23.0 in c:\\users\\waghm\\anaconda3\\lib\\site-packages (from openai) (0.27.0)\n",
      "Requirement already satisfied: jiter<1,>=0.4.0 in c:\\users\\waghm\\anaconda3\\lib\\site-packages (from openai) (0.5.0)\n",
      "Requirement already satisfied: pydantic<3,>=1.9.0 in c:\\users\\waghm\\anaconda3\\lib\\site-packages (from openai) (2.9.1)\n",
      "Requirement already satisfied: sniffio in c:\\users\\waghm\\anaconda3\\lib\\site-packages (from openai) (1.3.0)\n",
      "Requirement already satisfied: tqdm>4 in c:\\users\\waghm\\anaconda3\\lib\\site-packages (from openai) (4.66.4)\n",
      "Requirement already satisfied: typing-extensions<5,>=4.11 in c:\\users\\waghm\\anaconda3\\lib\\site-packages (from openai) (4.11.0)\n",
      "Requirement already satisfied: idna>=2.8 in c:\\users\\waghm\\anaconda3\\lib\\site-packages (from anyio<5,>=3.5.0->openai) (3.7)\n",
      "Requirement already satisfied: certifi in c:\\users\\waghm\\anaconda3\\lib\\site-packages (from httpx<1,>=0.23.0->openai) (2024.8.30)\n",
      "Requirement already satisfied: httpcore==1.* in c:\\users\\waghm\\anaconda3\\lib\\site-packages (from httpx<1,>=0.23.0->openai) (1.0.2)\n",
      "Requirement already satisfied: h11<0.15,>=0.13 in c:\\users\\waghm\\anaconda3\\lib\\site-packages (from httpcore==1.*->httpx<1,>=0.23.0->openai) (0.14.0)\n",
      "Requirement already satisfied: annotated-types>=0.6.0 in c:\\users\\waghm\\anaconda3\\lib\\site-packages (from pydantic<3,>=1.9.0->openai) (0.6.0)\n",
      "Requirement already satisfied: pydantic-core==2.23.3 in c:\\users\\waghm\\anaconda3\\lib\\site-packages (from pydantic<3,>=1.9.0->openai) (2.23.3)\n",
      "Requirement already satisfied: colorama in c:\\users\\waghm\\anaconda3\\lib\\site-packages (from tqdm>4->openai) (0.4.6)\n",
      "Collecting PyPDF2\n",
      "  Downloading pypdf2-3.0.1-py3-none-any.whl.metadata (6.8 kB)\n",
      "Downloading pypdf2-3.0.1-py3-none-any.whl (232 kB)\n",
      "   ---------------------------------------- 0.0/232.6 kB ? eta -:--:--\n",
      "   - -------------------------------------- 10.2/232.6 kB ? eta -:--:--\n",
      "   ------ -------------------------------- 41.0/232.6 kB 653.6 kB/s eta 0:00:01\n",
      "   ---------------------------------------- 232.6/232.6 kB 2.4 MB/s eta 0:00:00\n",
      "Installing collected packages: PyPDF2\n",
      "Successfully installed PyPDF2-3.0.1\n",
      "Collecting faiss-cpu\n",
      "  Downloading faiss_cpu-1.8.0.post1-cp312-cp312-win_amd64.whl.metadata (3.8 kB)\n",
      "Requirement already satisfied: numpy<2.0,>=1.0 in c:\\users\\waghm\\anaconda3\\lib\\site-packages (from faiss-cpu) (1.26.4)\n",
      "Requirement already satisfied: packaging in c:\\users\\waghm\\anaconda3\\lib\\site-packages (from faiss-cpu) (23.2)\n",
      "Downloading faiss_cpu-1.8.0.post1-cp312-cp312-win_amd64.whl (14.6 MB)\n",
      "   ---------------------------------------- 0.0/14.6 MB ? eta -:--:--\n",
      "   ---------------------------------------- 0.0/14.6 MB ? eta -:--:--\n",
      "   ---------------------------------------- 0.0/14.6 MB 330.3 kB/s eta 0:00:45\n",
      "   ---------------------------------------- 0.1/14.6 MB 1.2 MB/s eta 0:00:13\n",
      "   - -------------------------------------- 0.6/14.6 MB 4.0 MB/s eta 0:00:04\n",
      "   ---- ----------------------------------- 1.8/14.6 MB 9.6 MB/s eta 0:00:02\n",
      "   -------- ------------------------------- 3.1/14.6 MB 13.9 MB/s eta 0:00:01\n",
      "   -------- ------------------------------- 3.1/14.6 MB 13.9 MB/s eta 0:00:01\n",
      "   ----------- ---------------------------- 4.1/14.6 MB 12.4 MB/s eta 0:00:01\n",
      "   ----------- ---------------------------- 4.3/14.6 MB 11.5 MB/s eta 0:00:01\n",
      "   ------------ --------------------------- 4.7/14.6 MB 11.6 MB/s eta 0:00:01\n",
      "   ------------- -------------------------- 4.9/14.6 MB 10.4 MB/s eta 0:00:01\n",
      "   -------------- ------------------------- 5.1/14.6 MB 9.9 MB/s eta 0:00:01\n",
      "   --------------- ------------------------ 5.5/14.6 MB 9.8 MB/s eta 0:00:01\n",
      "   --------------- ------------------------ 5.6/14.6 MB 9.9 MB/s eta 0:00:01\n",
      "   --------------- ------------------------ 5.8/14.6 MB 8.9 MB/s eta 0:00:01\n",
      "   ---------------- ----------------------- 6.1/14.6 MB 8.6 MB/s eta 0:00:01\n",
      "   ----------------- ---------------------- 6.4/14.6 MB 8.5 MB/s eta 0:00:01\n",
      "   ------------------ --------------------- 6.7/14.6 MB 8.6 MB/s eta 0:00:01\n",
      "   ------------------- -------------------- 7.1/14.6 MB 8.5 MB/s eta 0:00:01\n",
      "   ------------------- -------------------- 7.1/14.6 MB 8.5 MB/s eta 0:00:01\n",
      "   -------------------- ------------------- 7.5/14.6 MB 8.0 MB/s eta 0:00:01\n",
      "   --------------------- ------------------ 7.8/14.6 MB 8.0 MB/s eta 0:00:01\n",
      "   --------------------- ------------------ 7.8/14.6 MB 8.0 MB/s eta 0:00:01\n",
      "   --------------------- ------------------ 7.8/14.6 MB 8.0 MB/s eta 0:00:01\n",
      "   --------------------- ------------------ 7.8/14.6 MB 6.9 MB/s eta 0:00:01\n",
      "   ---------------------- ----------------- 8.2/14.6 MB 7.0 MB/s eta 0:00:01\n",
      "   ----------------------- ---------------- 8.6/14.6 MB 7.0 MB/s eta 0:00:01\n",
      "   ------------------------ --------------- 9.0/14.6 MB 7.1 MB/s eta 0:00:01\n",
      "   --------------------------- ------------ 10.0/14.6 MB 7.7 MB/s eta 0:00:01\n",
      "   --------------------------- ------------ 10.1/14.6 MB 7.5 MB/s eta 0:00:01\n",
      "   ---------------------------- ----------- 10.5/14.6 MB 8.1 MB/s eta 0:00:01\n",
      "   ----------------------------- ---------- 10.7/14.6 MB 7.9 MB/s eta 0:00:01\n",
      "   ------------------------------ --------- 11.0/14.6 MB 7.7 MB/s eta 0:00:01\n",
      "   ------------------------------ --------- 11.2/14.6 MB 7.5 MB/s eta 0:00:01\n",
      "   ------------------------------- -------- 11.4/14.6 MB 7.4 MB/s eta 0:00:01\n",
      "   -------------------------------- ------- 12.0/14.6 MB 7.0 MB/s eta 0:00:01\n",
      "   -------------------------------- ------- 12.0/14.6 MB 7.0 MB/s eta 0:00:01\n",
      "   ---------------------------------- ----- 12.5/14.6 MB 6.7 MB/s eta 0:00:01\n",
      "   ---------------------------------- ----- 12.6/14.6 MB 6.6 MB/s eta 0:00:01\n",
      "   ----------------------------------- ---- 12.9/14.6 MB 6.4 MB/s eta 0:00:01\n",
      "   ----------------------------------- ---- 13.1/14.6 MB 6.2 MB/s eta 0:00:01\n",
      "   ------------------------------------ --- 13.3/14.6 MB 6.1 MB/s eta 0:00:01\n",
      "   ------------------------------------ --- 13.5/14.6 MB 6.2 MB/s eta 0:00:01\n",
      "   ------------------------------------- -- 13.6/14.6 MB 6.2 MB/s eta 0:00:01\n",
      "   ------------------------------------- -- 13.7/14.6 MB 5.9 MB/s eta 0:00:01\n",
      "   -------------------------------------- - 13.9/14.6 MB 5.8 MB/s eta 0:00:01\n",
      "   -------------------------------------- - 14.2/14.6 MB 5.6 MB/s eta 0:00:01\n",
      "   ---------------------------------------  14.4/14.6 MB 5.6 MB/s eta 0:00:01\n",
      "   ---------------------------------------  14.5/14.6 MB 5.5 MB/s eta 0:00:01\n",
      "   ---------------------------------------  14.6/14.6 MB 5.5 MB/s eta 0:00:01\n",
      "   ---------------------------------------- 14.6/14.6 MB 5.4 MB/s eta 0:00:00\n",
      "Installing collected packages: faiss-cpu\n",
      "Successfully installed faiss-cpu-1.8.0.post1\n",
      "Collecting tiktoken\n",
      "  Downloading tiktoken-0.7.0-cp312-cp312-win_amd64.whl.metadata (6.8 kB)\n",
      "Requirement already satisfied: regex>=2022.1.18 in c:\\users\\waghm\\anaconda3\\lib\\site-packages (from tiktoken) (2023.10.3)\n",
      "Requirement already satisfied: requests>=2.26.0 in c:\\users\\waghm\\anaconda3\\lib\\site-packages (from tiktoken) (2.32.2)\n",
      "Requirement already satisfied: charset-normalizer<4,>=2 in c:\\users\\waghm\\anaconda3\\lib\\site-packages (from requests>=2.26.0->tiktoken) (2.0.4)\n",
      "Requirement already satisfied: idna<4,>=2.5 in c:\\users\\waghm\\anaconda3\\lib\\site-packages (from requests>=2.26.0->tiktoken) (3.7)\n",
      "Requirement already satisfied: urllib3<3,>=1.21.1 in c:\\users\\waghm\\anaconda3\\lib\\site-packages (from requests>=2.26.0->tiktoken) (2.2.2)\n",
      "Requirement already satisfied: certifi>=2017.4.17 in c:\\users\\waghm\\anaconda3\\lib\\site-packages (from requests>=2.26.0->tiktoken) (2024.8.30)\n",
      "Downloading tiktoken-0.7.0-cp312-cp312-win_amd64.whl (799 kB)\n",
      "   ---------------------------------------- 0.0/799.3 kB ? eta -:--:--\n",
      "    --------------------------------------- 10.2/799.3 kB ? eta -:--:--\n",
      "   - ------------------------------------- 41.0/799.3 kB 487.6 kB/s eta 0:00:02\n",
      "   --------------- ------------------------ 307.2/799.3 kB 2.7 MB/s eta 0:00:01\n",
      "   ---------------------------------------- 799.3/799.3 kB 5.6 MB/s eta 0:00:00\n",
      "Installing collected packages: tiktoken\n",
      "Successfully installed tiktoken-0.7.0\n"
     ]
    }
   ],
   "source": [
    "!pip install langchain\n",
    "!pip install openai\n",
    "!pip install PyPDF2\n",
    "!pip install faiss-cpu\n",
    "!pip install tiktoken"
   ]
  },
  {
   "cell_type": "code",
   "execution_count": 145,
   "id": "60ea4c01-1a7d-4584-868e-fd605ff5bf41",
   "metadata": {},
   "outputs": [],
   "source": [
    "from PyPDF2 import PdfReader\n",
    "from langchain.embeddings.openai import OpenAIEmbeddings\n",
    "from langchain.text_splitter import CharacterTextSplitter\n",
    "from langchain.vectorstores import FAISS\n",
    "from secret_key import openapi_key\n",
    "import os\n",
    "os.environ[\"OPEN_API_KEY\"] = openapi_key\n",
    "\n",
    "\n",
    "\n",
    "\n"
   ]
  },
  {
   "cell_type": "code",
   "execution_count": 147,
   "id": "46c356d6-80f9-4183-947e-40b7ac0da1ed",
   "metadata": {},
   "outputs": [],
   "source": [
    "pdfreader = PdfReader('...../test3.pdf') # FILE PATH "
   ]
  },
  {
   "cell_type": "code",
   "execution_count": 149,
   "id": "77d081f7-c3c1-4538-a767-efd1240eae4f",
   "metadata": {},
   "outputs": [],
   "source": [
    "from typing_extensions import Concatenate\n",
    "# read text from pdf\n",
    "raw_text = ''\n",
    "for i, page in enumerate(pdfreader.pages):\n",
    "    content = page.extract_text()\n",
    "    if content:\n",
    "        raw_text += content"
   ]
  },
  {
   "cell_type": "code",
   "execution_count": 151,
   "id": "c2be628b-a091-4080-b9b3-546fa3a9d16a",
   "metadata": {},
   "outputs": [
    {
     "data": {
      "text/plain": [
       "'RFC 29500 - P5 - W3 - 2024 P&LWEEK: 3 STORE: 29500 RA Master 2024  - EN - RFC ON V4\\n# Description WEEK % EXPLANATIONS/COMMENTS\\nTOTAL GROSS SALES (22,911 ) 103.0%\\nNET FOOD SALES (18,691 ) 84.1%\\nSKIP SALES - $$ (1,940 ) 8.7%\\nUBER SALES - $$ (963) 4.3%\\nDOORDASH SALES - $$ (442) 2.0%\\nWHITE LABEL SALES - $$ (156) 0.7%\\nNET NON FOOD SALES (46) 0.2%\\nTOTAL NET SALES (22,238 ) 100.0%\\nTOTAL NET SALES PREVIOUS YEAR (19,403 ) 14.6%\\nTOTAL WEEKLY BUDGET SALES (25,985 ) -14.4%\\n50000 FOOD (6,189 ) 27.8%\\n50010 BEVERAGE (314) 1.4%\\n50030 CONDIMENTS (215) 1.0%\\nFOOD COST (6,718 ) 30.2%\\n50100 PAPER COST (576) 2.6%\\n50110 FUEL SURCHARGE (26) 0.1%\\n50090 COST OF NON FOOD SALES (145) 0.6%\\nTOTAL COST OF SALES (7,465 ) 33.6%\\nTHEORETICAL COST OF SALES (7,222 ) 32.5%\\nGAP (243) 1.1%\\nALLOWABLE GAP (245) 1.1%\\nVAR TO ALLOWABLE GAP (1) 0.0% [BONUS CRITERIA - below 0%  TO MEET BONUS]\\nACTUAL WASTE (174) 0.8%\\nALLOWABLE WASTE (178) 0.8%\\nWASTE VARIANCE (4) 0.0%\\nGROSS PROFIT FOOD SALES (14,871 ) 66.9%\\nGROSS PROFIT NON FOOD SALES (99) -214.3%\\nMANAGEMENT LABOUR COST (1,210 ) 5.4%\\nHOURLY TEAM LABOUR COST (4,593 ) 20.7%\\nHOURLY TEAM LABOUR SUBSIDY (YMCA) (0) 0.0%\\nREGULAR TEAM LABOUR ON STAT (0) 0.0%\\nHALF TIME WAGES ON STAT (0) 0.0%\\nTOTAL HOURLY STAT PREMIUM WAGES (0) 0.0%\\nSTAT ELIGIBLE LABOUR COST (0) 0.0%\\nVACATION ACCRUAL (270) 1.2%RFC 29500 - P5 - W3 - 2024 P&LWEEK: 3 STORE: 29500 RA Master 2024  - EN - RFC ON V4\\n# Description WEEK % EXPLANATIONS/COMMENTS\\nSICK DAY (0) 0.0%\\nBONUS (78) 0.4%\\nTOTAL SALARIES (6,151 ) 27.7%\\nBENEFITS (701) 3.2%\\nTOTAL BENEFITS (701) 3.2%\\n11.4%\\nTOTAL LABOR COST (6,851 ) 30.8%\\nLABOUR MATRIX (6,676 ) 30.0%\\nVARIANCE (176) 0.8% [BONUS CRITERIA - NEEDS TO BE NEGATIVE  TO MEET BONUS]\\n65001 3RD PARTY FEE - SKIP (466) 2.1%\\n65002 3RD PARTY FEE - UBER (193) 0.9%\\n65003 3RD PARTY FEE - DOOR DASH (80) 0.4%\\n65050 WHITE LABEL DELIVERY FEE (14) 0.1%\\nTOTAL COST OF DELIVERIES (751) 3.4%\\nTOTAL GROSS PROFIT (7,170 ) 32.2%\\n63000 KITCHEN SUPPLIES (0) 0.0%\\n63010 UNIFORMS (0) 0.0%\\n63020 RESTAURANT SUPPLIES (81) 0.4%\\n63030 OFFICE SUPPLIES (0) 0.0%\\n63040 COMPUTER SUPPLIES (0) 0.0%\\n63060 CLEANING SUPPLIES (51) 0.2%\\n63070 CO2 GAS RENTAL (0) 0.0%\\nTOTAL SUPPLIES (132) 0.6%\\n66000 CASH +/- (21) -0.1%\\n68010 BANK CHARGES (43) 0.2%\\n68000 POS CC TERMINAL RENTAL (129) 0.6%\\n68020 ARMORED CAR (0) 0.0%\\n68030 MOBILE ORDER FEE (14) 0.1%\\nTOTAL BANK AND CC CHARGES (164) 0.7%\\n67000 ROYALTIES (1,001 ) 4.5%\\n670XX ROYALTIES NEW INCENTIVE (334) -1.5%RFC 29500 - P5 - W3 - 2024 P&LWEEK: 3 STORE: 29500 RA Master 2024  - EN - RFC ON V4\\n# Description WEEK % EXPLANATIONS/COMMENTS\\nROYALTIES (667) 3.0%\\n610XX MARKETING (994) 4.5%\\n610XX MARKETING NEW INCENTIVE (334) -1.5%\\n61XXX LSM MARKETING (0) 0.0%\\nTOTAL MARKETING (660) 3.0%\\n63080 PROMO ITEMS (0) 0.0%\\nTOTAL PROMO ITEMS (0) 0.0%\\n640XX POS MAINTENANCE FEE (209) 0.9%\\n64050 WASTE DISP . (117) 0.5%\\n64060 EXTERMINATION (6) 0.0%\\n64080 LANDSCAPING (35) 0.2%\\n64070 SNOW REMOVAL (0) 0.0%\\n64055 CLEANING (49) 0.2%\\n64065 OTHER CONTRACTS (133) 0.6%\\n64100 BUILDING MAINTENANCE (0) 0.0%\\n64140 EQUIPMENT MAINTENANCE (572) 2.6%\\n64170 TECHNICAL SUPPORT (0) 0.0%\\nTOTAL REPAIRS AND MAINTENANCE (1,121 ) 5.0%\\n69010 TRAVEL (0) 0.0%\\n71520 EMPLOYEE RECOGNITION (0) 0.0%\\n66100 TELEPHONE (14) 0.1%\\n66120 INTERNET (60) 0.3%\\n70120 SUBSCRIPTIONS & MEMBERSHIPS (0) 0.0%\\n66400 ALARM AND CAMERAS (0) 0.0%\\n70000 PROFESSIONAL FEES (0) 0.0%\\n66200 POSTAGE & COURIER (16) 0.1%\\n71000 TRAINING (16) 0.1%\\n71020 RECRUITMENT 0.0%\\n71040 Health & Safety (0) 0.0%\\n66300 EQUIPMENT RENTAL (13) 0.1%\\n66500 PAYROLL PROCESSING FEES (37) 0.2%\\n66410 INSURANCE (145) 0.7%\\nTOTAL CONTROLLABLES (301) 1.4%RFC 29500 - P5 - W3 - 2024 P&LWEEK: 3 STORE: 29500 RA Master 2024  - EN - RFC ON V4\\n# Description WEEK % EXPLANATIONS/COMMENTS\\n62000 ELECTRICITY (133) 0.6%\\n62010 WATER (18) 0.1%\\n62020 GAS (60) 0.3%\\nTOTAL UTILITIES (210) 0.9%\\nTOTAL SEMIS (3,256 ) 14.6%\\nPROFIT BEFORE OCCUPANCY (PC) (3,914 ) 17.6%\\n72000 BASE RENT (1,783 ) 8.0%\\n72020 COMMON AREA CHARGES (289) 1.3%\\n72050 REAL ESTATE TAX (349) 1.6%\\n70110 TAXES & LICENSES (0) 0.0%\\n72200 STRAIGHT LINE RENT (62) 0.3%\\nTOTAL OCCUPANCY (2,483 ) 11.2%\\nNET CASH PROFIT (1,431 ) 6.4%\\nPROFIT (1,431 ) 6.4%\\nTOTAL TRANSACTIONS (1,562 )\\nGUEST CHECK AVERAGE 14.24 $\\nPAYROLL HOURS USED (322.80 )\\nPAYROLL HOURLY HOURS USED (266.80 )\\nPAYROLL MANAGER HOURS USED (56.00 )\\nPAYROLL STAT HOURS USED (0.00 )\\nENDING INVENTORY / DAYS IN INVENTORY (12,288.24 ) 11.59\\nEAT IN SALES (4,493.84 ) 20.2%\\nTO GO SALES (4,095.34 ) 18.4%\\nDRIVE THRU SALES (10,147.71 ) 45.6%\\nSKIP SALES (1,940.13 ) 8.7%\\nUBER SALES (963.12 ) 4.3%\\nDOOR DASH SALES (441.71 ) 2.0%\\nEAT IN TRANSACTIONS (313) 20.0%\\nTO GO TRANSACTIONS (355) 22.7%\\nDRIVE THRU TRANSACTIONS (762) 48.8%\\nSKIP TRANSACTIONS (76) 4.9%\\nUBER TRANSACTIONS (37) 2.4%\\nDOOR DASH TRANSACTIONS (17) 1.1%RFC 29500 - P5 - W3 - 2024 P&LRA Master 2024  - EN - RFC ON V4\\nEXPLANATIONS/COMMENTS\\n[BONUS CRITERIA - below 0%  TO MEET BONUS]RFC 29500 - P5 - W3 - 2024 P&LRA Master 2024  - EN - RFC ON V4\\nEXPLANATIONS/COMMENTS\\n[BONUS CRITERIA - NEEDS TO BE NEGATIVE  TO MEET BONUS]RFC 29500 - P5 - W3 - 2024 P&LRA Master 2024  - EN - RFC ON V4\\nEXPLANATIONS/COMMENTSRFC 29500 - P5 - W3 - 2024 P&LRA Master 2024  - EN - RFC ON V4\\nEXPLANATIONS/COMMENTS\\n '"
      ]
     },
     "execution_count": 151,
     "metadata": {},
     "output_type": "execute_result"
    }
   ],
   "source": [
    "raw_text"
   ]
  },
  {
   "cell_type": "code",
   "execution_count": 153,
   "id": "a1ffd111-7a30-4529-9bc3-9bbb34092b6b",
   "metadata": {},
   "outputs": [],
   "source": [
    "# We need to split the text using Character Text Split such that it sshould not increse token size\n",
    "text_splitter = CharacterTextSplitter(\n",
    "    separator = \"\\n\",\n",
    "    chunk_size = 800,\n",
    "    chunk_overlap  = 200,\n",
    "    length_function = len,\n",
    ")\n",
    "texts = text_splitter.split_text(raw_text)"
   ]
  },
  {
   "cell_type": "code",
   "execution_count": 155,
   "id": "3189fe65-2592-4641-bcf9-48448dfc2bef",
   "metadata": {},
   "outputs": [
    {
     "data": {
      "text/plain": [
       "9"
      ]
     },
     "execution_count": 155,
     "metadata": {},
     "output_type": "execute_result"
    }
   ],
   "source": [
    "len(texts)"
   ]
  },
  {
   "cell_type": "code",
   "execution_count": 157,
   "id": "c5325db7-ed44-4324-81f7-63b52ad5b692",
   "metadata": {},
   "outputs": [],
   "source": [
    "from langchain.embeddings import OpenAIEmbeddings\n",
    "\n",
    "# Replace 'your_openai_api_key_here' with your actual API key\n",
    "embeddings = OpenAIEmbeddings(openai_api_key = openapi_key)\n"
   ]
  },
  {
   "cell_type": "code",
   "execution_count": 159,
   "id": "ef89e23a-8cf7-4089-a017-ba314c3b25ca",
   "metadata": {},
   "outputs": [],
   "source": [
    "document_search = FAISS.from_texts(texts, embeddings)"
   ]
  },
  {
   "cell_type": "code",
   "execution_count": 161,
   "id": "215de592-0dee-4e8f-aff0-56a2e1ef5a1f",
   "metadata": {},
   "outputs": [
    {
     "data": {
      "text/plain": [
       "<langchain_community.vectorstores.faiss.FAISS at 0x224d245d5e0>"
      ]
     },
     "execution_count": 161,
     "metadata": {},
     "output_type": "execute_result"
    }
   ],
   "source": [
    "document_search\n"
   ]
  },
  {
   "cell_type": "code",
   "execution_count": 163,
   "id": "d81ee54f-0e02-4083-89f2-27cbf0ac0b2c",
   "metadata": {},
   "outputs": [],
   "source": [
    "from langchain.chains.question_answering import load_qa_chain\n",
    "from langchain.llms import OpenAI"
   ]
  },
  {
   "cell_type": "code",
   "execution_count": 165,
   "id": "f49ecabd-4bd3-4d6b-a404-32d8143652bb",
   "metadata": {},
   "outputs": [],
   "source": [
    "\n",
    "# Initialize the OpenAI model with API key\n",
    "openai_model = OpenAI(api_key= openapi_key)\n",
    "\n",
    "# Load the QA chain\n",
    "chain = load_qa_chain(openai_model, chain_type=\"stuff\")"
   ]
  },
  {
   "cell_type": "code",
   "execution_count": 185,
   "id": "0cf3e8dc-88d8-4476-b50a-5c333f864f05",
   "metadata": {},
   "outputs": [
    {
     "data": {
      "text/plain": [
       "' The labour matrix was $6,676 and the variance was 0.8%.'"
      ]
     },
     "execution_count": 185,
     "metadata": {},
     "output_type": "execute_result"
    }
   ],
   "source": [
    "query = \"can you tell me how much was the labour matrix and what was the variance in percent?\"\n",
    "docs = document_search.similarity_search(query)\n",
    "chain.run(input_documents=docs, question=query)"
   ]
  },
  {
   "cell_type": "code",
   "execution_count": null,
   "id": "bbdafe5c-4f78-447d-a8a7-de6c2b322fc7",
   "metadata": {},
   "outputs": [],
   "source": []
  }
 ],
 "metadata": {
  "kernelspec": {
   "display_name": "Python 3 (ipykernel)",
   "language": "python",
   "name": "python3"
  },
  "language_info": {
   "codemirror_mode": {
    "name": "ipython",
    "version": 3
   },
   "file_extension": ".py",
   "mimetype": "text/x-python",
   "name": "python",
   "nbconvert_exporter": "python",
   "pygments_lexer": "ipython3",
   "version": "3.12.4"
  }
 },
 "nbformat": 4,
 "nbformat_minor": 5
}
